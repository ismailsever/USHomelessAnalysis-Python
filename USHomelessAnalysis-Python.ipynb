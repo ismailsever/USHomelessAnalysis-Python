{
 "cells": [
  {
   "cell_type": "code",
   "execution_count": 1,
   "id": "04338475",
   "metadata": {},
   "outputs": [],
   "source": [
    "#Import the essential Libraries\n",
    "import pandas as pd\n",
    "import numpy as np\n",
    "import matplotlib.pyplot as plt\n",
    "%matplotlib inline"
   ]
  },
  {
   "cell_type": "code",
   "execution_count": 2,
   "id": "f056abf9",
   "metadata": {},
   "outputs": [
    {
     "data": {
      "text/html": [
       "<div>\n",
       "<style scoped>\n",
       "    .dataframe tbody tr th:only-of-type {\n",
       "        vertical-align: middle;\n",
       "    }\n",
       "\n",
       "    .dataframe tbody tr th {\n",
       "        vertical-align: top;\n",
       "    }\n",
       "\n",
       "    .dataframe thead th {\n",
       "        text-align: right;\n",
       "    }\n",
       "</style>\n",
       "<table border=\"1\" class=\"dataframe\">\n",
       "  <thead>\n",
       "    <tr style=\"text-align: right;\">\n",
       "      <th></th>\n",
       "      <th>Unnamed: 0</th>\n",
       "      <th>region</th>\n",
       "      <th>state</th>\n",
       "      <th>individuals</th>\n",
       "      <th>family_members</th>\n",
       "      <th>state_pop</th>\n",
       "    </tr>\n",
       "  </thead>\n",
       "  <tbody>\n",
       "    <tr>\n",
       "      <th>0</th>\n",
       "      <td>0</td>\n",
       "      <td>East South Central</td>\n",
       "      <td>Alabama</td>\n",
       "      <td>2570</td>\n",
       "      <td>864</td>\n",
       "      <td>4887681</td>\n",
       "    </tr>\n",
       "    <tr>\n",
       "      <th>1</th>\n",
       "      <td>1</td>\n",
       "      <td>Pacific</td>\n",
       "      <td>Alaska</td>\n",
       "      <td>1434</td>\n",
       "      <td>582</td>\n",
       "      <td>735139</td>\n",
       "    </tr>\n",
       "    <tr>\n",
       "      <th>2</th>\n",
       "      <td>2</td>\n",
       "      <td>Mountain</td>\n",
       "      <td>Arizona</td>\n",
       "      <td>7259</td>\n",
       "      <td>2606</td>\n",
       "      <td>7158024</td>\n",
       "    </tr>\n",
       "    <tr>\n",
       "      <th>3</th>\n",
       "      <td>3</td>\n",
       "      <td>West South Central</td>\n",
       "      <td>Arkansas</td>\n",
       "      <td>2280</td>\n",
       "      <td>432</td>\n",
       "      <td>3009733</td>\n",
       "    </tr>\n",
       "    <tr>\n",
       "      <th>4</th>\n",
       "      <td>4</td>\n",
       "      <td>Pacific</td>\n",
       "      <td>California</td>\n",
       "      <td>109008</td>\n",
       "      <td>20964</td>\n",
       "      <td>39461588</td>\n",
       "    </tr>\n",
       "  </tbody>\n",
       "</table>\n",
       "</div>"
      ],
      "text/plain": [
       "   Unnamed: 0              region       state  individuals  family_members  \\\n",
       "0           0  East South Central     Alabama         2570             864   \n",
       "1           1             Pacific      Alaska         1434             582   \n",
       "2           2            Mountain     Arizona         7259            2606   \n",
       "3           3  West South Central    Arkansas         2280             432   \n",
       "4           4             Pacific  California       109008           20964   \n",
       "\n",
       "   state_pop  \n",
       "0    4887681  \n",
       "1     735139  \n",
       "2    7158024  \n",
       "3    3009733  \n",
       "4   39461588  "
      ]
     },
     "execution_count": 2,
     "metadata": {},
     "output_type": "execute_result"
    }
   ],
   "source": [
    "#Load dataset\n",
    "df = pd.read_csv('./homeless.csv')\n",
    "df.head()"
   ]
  },
  {
   "cell_type": "code",
   "execution_count": 3,
   "id": "74ec3e56",
   "metadata": {},
   "outputs": [
    {
     "data": {
      "text/plain": [
       "(51, 6)"
      ]
     },
     "execution_count": 3,
     "metadata": {},
     "output_type": "execute_result"
    }
   ],
   "source": [
    "#Check the number of rows and columns\n",
    "df.shape"
   ]
  },
  {
   "cell_type": "code",
   "execution_count": 4,
   "id": "0bdb5032",
   "metadata": {},
   "outputs": [
    {
     "data": {
      "text/plain": [
       "Index(['Unnamed: 0', 'region', 'state', 'individuals', 'family_members',\n",
       "       'state_pop'],\n",
       "      dtype='object')"
      ]
     },
     "execution_count": 4,
     "metadata": {},
     "output_type": "execute_result"
    }
   ],
   "source": [
    "#Check columns in dataset\n",
    "df.columns"
   ]
  },
  {
   "cell_type": "code",
   "execution_count": 5,
   "id": "6f7f8f31",
   "metadata": {},
   "outputs": [
    {
     "data": {
      "text/plain": [
       "Unnamed: 0         int64\n",
       "region            object\n",
       "state             object\n",
       "individuals        int64\n",
       "family_members     int64\n",
       "state_pop          int64\n",
       "dtype: object"
      ]
     },
     "execution_count": 5,
     "metadata": {},
     "output_type": "execute_result"
    }
   ],
   "source": [
    "#Check the data types of each column\n",
    "df.dtypes"
   ]
  },
  {
   "cell_type": "markdown",
   "id": "724c30b5",
   "metadata": {},
   "source": [
    "# Drop the Unnecessary Column "
   ]
  },
  {
   "cell_type": "code",
   "execution_count": 6,
   "id": "45cafcff",
   "metadata": {},
   "outputs": [
    {
     "data": {
      "text/html": [
       "<div>\n",
       "<style scoped>\n",
       "    .dataframe tbody tr th:only-of-type {\n",
       "        vertical-align: middle;\n",
       "    }\n",
       "\n",
       "    .dataframe tbody tr th {\n",
       "        vertical-align: top;\n",
       "    }\n",
       "\n",
       "    .dataframe thead th {\n",
       "        text-align: right;\n",
       "    }\n",
       "</style>\n",
       "<table border=\"1\" class=\"dataframe\">\n",
       "  <thead>\n",
       "    <tr style=\"text-align: right;\">\n",
       "      <th></th>\n",
       "      <th>region</th>\n",
       "      <th>state</th>\n",
       "      <th>individuals</th>\n",
       "      <th>family_members</th>\n",
       "      <th>state_pop</th>\n",
       "    </tr>\n",
       "  </thead>\n",
       "  <tbody>\n",
       "    <tr>\n",
       "      <th>0</th>\n",
       "      <td>East South Central</td>\n",
       "      <td>Alabama</td>\n",
       "      <td>2570</td>\n",
       "      <td>864</td>\n",
       "      <td>4887681</td>\n",
       "    </tr>\n",
       "    <tr>\n",
       "      <th>1</th>\n",
       "      <td>Pacific</td>\n",
       "      <td>Alaska</td>\n",
       "      <td>1434</td>\n",
       "      <td>582</td>\n",
       "      <td>735139</td>\n",
       "    </tr>\n",
       "    <tr>\n",
       "      <th>2</th>\n",
       "      <td>Mountain</td>\n",
       "      <td>Arizona</td>\n",
       "      <td>7259</td>\n",
       "      <td>2606</td>\n",
       "      <td>7158024</td>\n",
       "    </tr>\n",
       "    <tr>\n",
       "      <th>3</th>\n",
       "      <td>West South Central</td>\n",
       "      <td>Arkansas</td>\n",
       "      <td>2280</td>\n",
       "      <td>432</td>\n",
       "      <td>3009733</td>\n",
       "    </tr>\n",
       "    <tr>\n",
       "      <th>4</th>\n",
       "      <td>Pacific</td>\n",
       "      <td>California</td>\n",
       "      <td>109008</td>\n",
       "      <td>20964</td>\n",
       "      <td>39461588</td>\n",
       "    </tr>\n",
       "  </tbody>\n",
       "</table>\n",
       "</div>"
      ],
      "text/plain": [
       "               region       state  individuals  family_members  state_pop\n",
       "0  East South Central     Alabama         2570             864    4887681\n",
       "1             Pacific      Alaska         1434             582     735139\n",
       "2            Mountain     Arizona         7259            2606    7158024\n",
       "3  West South Central    Arkansas         2280             432    3009733\n",
       "4             Pacific  California       109008           20964   39461588"
      ]
     },
     "execution_count": 6,
     "metadata": {},
     "output_type": "execute_result"
    }
   ],
   "source": [
    "#Dropping the \"unnamed\" column\n",
    "df2 = df.drop(\"Unnamed: 0\", axis=1)\n",
    "df2.head()"
   ]
  },
  {
   "cell_type": "markdown",
   "id": "cf5abf8e",
   "metadata": {},
   "source": [
    "# Check the Quality of the Dataset"
   ]
  },
  {
   "cell_type": "code",
   "execution_count": 7,
   "id": "92447f4c",
   "metadata": {},
   "outputs": [
    {
     "data": {
      "text/plain": [
       "region            0\n",
       "state             0\n",
       "individuals       0\n",
       "family_members    0\n",
       "state_pop         0\n",
       "dtype: int64"
      ]
     },
     "execution_count": 7,
     "metadata": {},
     "output_type": "execute_result"
    }
   ],
   "source": [
    "#Checking for missing values\n",
    "df2.isna().sum()"
   ]
  },
  {
   "cell_type": "code",
   "execution_count": 8,
   "id": "24491b95",
   "metadata": {},
   "outputs": [
    {
     "data": {
      "text/plain": [
       "False"
      ]
     },
     "execution_count": 8,
     "metadata": {},
     "output_type": "execute_result"
    }
   ],
   "source": [
    "#Checking for duplicate rows\n",
    "df2.duplicated().any()"
   ]
  },
  {
   "cell_type": "code",
   "execution_count": 19,
   "id": "250ca46e",
   "metadata": {
    "scrolled": true
   },
   "outputs": [
    {
     "data": {
      "text/plain": [
       "region             9\n",
       "state             51\n",
       "individuals       49\n",
       "family_members    50\n",
       "state_pop         51\n",
       "dtype: int64"
      ]
     },
     "execution_count": 19,
     "metadata": {},
     "output_type": "execute_result"
    }
   ],
   "source": [
    "df2.nunique()"
   ]
  },
  {
   "cell_type": "markdown",
   "id": "588ab92a",
   "metadata": {},
   "source": [
    "# Descriptive Statistics"
   ]
  },
  {
   "cell_type": "code",
   "execution_count": 10,
   "id": "f79db7a4",
   "metadata": {},
   "outputs": [
    {
     "data": {
      "text/html": [
       "<div>\n",
       "<style scoped>\n",
       "    .dataframe tbody tr th:only-of-type {\n",
       "        vertical-align: middle;\n",
       "    }\n",
       "\n",
       "    .dataframe tbody tr th {\n",
       "        vertical-align: top;\n",
       "    }\n",
       "\n",
       "    .dataframe thead th {\n",
       "        text-align: right;\n",
       "    }\n",
       "</style>\n",
       "<table border=\"1\" class=\"dataframe\">\n",
       "  <thead>\n",
       "    <tr style=\"text-align: right;\">\n",
       "      <th></th>\n",
       "      <th>count</th>\n",
       "      <th>mean</th>\n",
       "      <th>std</th>\n",
       "      <th>min</th>\n",
       "      <th>25%</th>\n",
       "      <th>50%</th>\n",
       "      <th>75%</th>\n",
       "      <th>max</th>\n",
       "    </tr>\n",
       "  </thead>\n",
       "  <tbody>\n",
       "    <tr>\n",
       "      <th>individuals</th>\n",
       "      <td>51.0</td>\n",
       "      <td>7.225784e+03</td>\n",
       "      <td>1.599103e+04</td>\n",
       "      <td>434.0</td>\n",
       "      <td>1446.5</td>\n",
       "      <td>3082.0</td>\n",
       "      <td>6781.5</td>\n",
       "      <td>109008.0</td>\n",
       "    </tr>\n",
       "    <tr>\n",
       "      <th>family_members</th>\n",
       "      <td>51.0</td>\n",
       "      <td>3.504882e+03</td>\n",
       "      <td>7.805412e+03</td>\n",
       "      <td>75.0</td>\n",
       "      <td>592.0</td>\n",
       "      <td>1482.0</td>\n",
       "      <td>3196.0</td>\n",
       "      <td>52070.0</td>\n",
       "    </tr>\n",
       "    <tr>\n",
       "      <th>state_pop</th>\n",
       "      <td>51.0</td>\n",
       "      <td>6.405637e+06</td>\n",
       "      <td>7.327258e+06</td>\n",
       "      <td>577601.0</td>\n",
       "      <td>1777413.5</td>\n",
       "      <td>4461153.0</td>\n",
       "      <td>7340946.5</td>\n",
       "      <td>39461588.0</td>\n",
       "    </tr>\n",
       "  </tbody>\n",
       "</table>\n",
       "</div>"
      ],
      "text/plain": [
       "                count          mean           std       min        25%  \\\n",
       "individuals      51.0  7.225784e+03  1.599103e+04     434.0     1446.5   \n",
       "family_members   51.0  3.504882e+03  7.805412e+03      75.0      592.0   \n",
       "state_pop        51.0  6.405637e+06  7.327258e+06  577601.0  1777413.5   \n",
       "\n",
       "                      50%        75%         max  \n",
       "individuals        3082.0     6781.5    109008.0  \n",
       "family_members     1482.0     3196.0     52070.0  \n",
       "state_pop       4461153.0  7340946.5  39461588.0  "
      ]
     },
     "execution_count": 10,
     "metadata": {},
     "output_type": "execute_result"
    }
   ],
   "source": [
    "#Descriptive Statistics\n",
    "df2.describe().T"
   ]
  },
  {
   "cell_type": "markdown",
   "id": "ca7a8107",
   "metadata": {},
   "source": [
    "# Insights"
   ]
  },
  {
   "cell_type": "markdown",
   "id": "06cdb4e9",
   "metadata": {},
   "source": [
    "1. Which region has the highest number of homeless in the US?"
   ]
  },
  {
   "cell_type": "code",
   "execution_count": 11,
   "id": "48a59164",
   "metadata": {
    "scrolled": true
   },
   "outputs": [
    {
     "data": {
      "text/html": [
       "<div>\n",
       "<style scoped>\n",
       "    .dataframe tbody tr th:only-of-type {\n",
       "        vertical-align: middle;\n",
       "    }\n",
       "\n",
       "    .dataframe tbody tr th {\n",
       "        vertical-align: top;\n",
       "    }\n",
       "\n",
       "    .dataframe thead th {\n",
       "        text-align: right;\n",
       "    }\n",
       "</style>\n",
       "<table border=\"1\" class=\"dataframe\">\n",
       "  <thead>\n",
       "    <tr style=\"text-align: right;\">\n",
       "      <th></th>\n",
       "      <th>region</th>\n",
       "      <th>individuals</th>\n",
       "      <th>family_members</th>\n",
       "    </tr>\n",
       "  </thead>\n",
       "  <tbody>\n",
       "    <tr>\n",
       "      <th>0</th>\n",
       "      <td>East South Central</td>\n",
       "      <td>2570</td>\n",
       "      <td>864</td>\n",
       "    </tr>\n",
       "    <tr>\n",
       "      <th>1</th>\n",
       "      <td>Pacific</td>\n",
       "      <td>1434</td>\n",
       "      <td>582</td>\n",
       "    </tr>\n",
       "    <tr>\n",
       "      <th>2</th>\n",
       "      <td>Mountain</td>\n",
       "      <td>7259</td>\n",
       "      <td>2606</td>\n",
       "    </tr>\n",
       "    <tr>\n",
       "      <th>3</th>\n",
       "      <td>West South Central</td>\n",
       "      <td>2280</td>\n",
       "      <td>432</td>\n",
       "    </tr>\n",
       "    <tr>\n",
       "      <th>4</th>\n",
       "      <td>Pacific</td>\n",
       "      <td>109008</td>\n",
       "      <td>20964</td>\n",
       "    </tr>\n",
       "  </tbody>\n",
       "</table>\n",
       "</div>"
      ],
      "text/plain": [
       "               region  individuals  family_members\n",
       "0  East South Central         2570             864\n",
       "1             Pacific         1434             582\n",
       "2            Mountain         7259            2606\n",
       "3  West South Central         2280             432\n",
       "4             Pacific       109008           20964"
      ]
     },
     "execution_count": 11,
     "metadata": {},
     "output_type": "execute_result"
    }
   ],
   "source": [
    "#Dropping the other two column, \"state\" and \"state_pop\"\n",
    "total_region=df2.drop(['state','state_pop'],axis=1)\n",
    "total_region.head()"
   ]
  },
  {
   "cell_type": "code",
   "execution_count": 12,
   "id": "ff038678",
   "metadata": {},
   "outputs": [
    {
     "data": {
      "text/html": [
       "<div>\n",
       "<style scoped>\n",
       "    .dataframe tbody tr th:only-of-type {\n",
       "        vertical-align: middle;\n",
       "    }\n",
       "\n",
       "    .dataframe tbody tr th {\n",
       "        vertical-align: top;\n",
       "    }\n",
       "\n",
       "    .dataframe thead th {\n",
       "        text-align: right;\n",
       "    }\n",
       "</style>\n",
       "<table border=\"1\" class=\"dataframe\">\n",
       "  <thead>\n",
       "    <tr style=\"text-align: right;\">\n",
       "      <th></th>\n",
       "      <th>individuals</th>\n",
       "      <th>family_members</th>\n",
       "      <th>Total_Homeless</th>\n",
       "    </tr>\n",
       "    <tr>\n",
       "      <th>region</th>\n",
       "      <th></th>\n",
       "      <th></th>\n",
       "      <th></th>\n",
       "    </tr>\n",
       "  </thead>\n",
       "  <tbody>\n",
       "    <tr>\n",
       "      <th>Pacific</th>\n",
       "      <td>142136</td>\n",
       "      <td>33162</td>\n",
       "      <td>175298</td>\n",
       "    </tr>\n",
       "    <tr>\n",
       "      <th>Mid-Atlantic</th>\n",
       "      <td>54038</td>\n",
       "      <td>60769</td>\n",
       "      <td>114807</td>\n",
       "    </tr>\n",
       "    <tr>\n",
       "      <th>South Atlantic</th>\n",
       "      <td>52260</td>\n",
       "      <td>23818</td>\n",
       "      <td>76078</td>\n",
       "    </tr>\n",
       "    <tr>\n",
       "      <th>East North Central</th>\n",
       "      <td>25406</td>\n",
       "      <td>14002</td>\n",
       "      <td>39408</td>\n",
       "    </tr>\n",
       "    <tr>\n",
       "      <th>Mountain</th>\n",
       "      <td>28491</td>\n",
       "      <td>9258</td>\n",
       "      <td>37749</td>\n",
       "    </tr>\n",
       "    <tr>\n",
       "      <th>West South Central</th>\n",
       "      <td>26842</td>\n",
       "      <td>8110</td>\n",
       "      <td>34952</td>\n",
       "    </tr>\n",
       "    <tr>\n",
       "      <th>New England</th>\n",
       "      <td>12903</td>\n",
       "      <td>17499</td>\n",
       "      <td>30402</td>\n",
       "    </tr>\n",
       "    <tr>\n",
       "      <th>West North Central</th>\n",
       "      <td>13971</td>\n",
       "      <td>8242</td>\n",
       "      <td>22213</td>\n",
       "    </tr>\n",
       "    <tr>\n",
       "      <th>East South Central</th>\n",
       "      <td>12468</td>\n",
       "      <td>3889</td>\n",
       "      <td>16357</td>\n",
       "    </tr>\n",
       "  </tbody>\n",
       "</table>\n",
       "</div>"
      ],
      "text/plain": [
       "                    individuals  family_members  Total_Homeless\n",
       "region                                                         \n",
       "Pacific                  142136           33162          175298\n",
       "Mid-Atlantic              54038           60769          114807\n",
       "South Atlantic            52260           23818           76078\n",
       "East North Central        25406           14002           39408\n",
       "Mountain                  28491            9258           37749\n",
       "West South Central        26842            8110           34952\n",
       "New England               12903           17499           30402\n",
       "West North Central        13971            8242           22213\n",
       "East South Central        12468            3889           16357"
      ]
     },
     "execution_count": 12,
     "metadata": {},
     "output_type": "execute_result"
    }
   ],
   "source": [
    "#Making a new column name \"total_homeless\" which is the combination of column individuals and family_members\n",
    "total_region['Total_Homeless'] = total_region['individuals'] + total_region['family_members']\n",
    "total_region.groupby(['region']).sum().sort_values(by=['Total_Homeless'], ascending=False)"
   ]
  },
  {
   "cell_type": "markdown",
   "id": "c9b1c891",
   "metadata": {},
   "source": [
    "2. Which region has the lowest number of homeless per thousand in the US?"
   ]
  },
  {
   "cell_type": "code",
   "execution_count": 13,
   "id": "e6934544",
   "metadata": {},
   "outputs": [
    {
     "data": {
      "text/html": [
       "<div>\n",
       "<style scoped>\n",
       "    .dataframe tbody tr th:only-of-type {\n",
       "        vertical-align: middle;\n",
       "    }\n",
       "\n",
       "    .dataframe tbody tr th {\n",
       "        vertical-align: top;\n",
       "    }\n",
       "\n",
       "    .dataframe thead th {\n",
       "        text-align: right;\n",
       "    }\n",
       "</style>\n",
       "<table border=\"1\" class=\"dataframe\">\n",
       "  <thead>\n",
       "    <tr style=\"text-align: right;\">\n",
       "      <th></th>\n",
       "      <th>region</th>\n",
       "      <th>individuals</th>\n",
       "      <th>family_members</th>\n",
       "      <th>state_pop</th>\n",
       "      <th>Total_Homeless</th>\n",
       "    </tr>\n",
       "  </thead>\n",
       "  <tbody>\n",
       "    <tr>\n",
       "      <th>0</th>\n",
       "      <td>East South Central</td>\n",
       "      <td>2570</td>\n",
       "      <td>864</td>\n",
       "      <td>4887681</td>\n",
       "      <td>3434</td>\n",
       "    </tr>\n",
       "    <tr>\n",
       "      <th>1</th>\n",
       "      <td>Pacific</td>\n",
       "      <td>1434</td>\n",
       "      <td>582</td>\n",
       "      <td>735139</td>\n",
       "      <td>2016</td>\n",
       "    </tr>\n",
       "    <tr>\n",
       "      <th>2</th>\n",
       "      <td>Mountain</td>\n",
       "      <td>7259</td>\n",
       "      <td>2606</td>\n",
       "      <td>7158024</td>\n",
       "      <td>9865</td>\n",
       "    </tr>\n",
       "    <tr>\n",
       "      <th>3</th>\n",
       "      <td>West South Central</td>\n",
       "      <td>2280</td>\n",
       "      <td>432</td>\n",
       "      <td>3009733</td>\n",
       "      <td>2712</td>\n",
       "    </tr>\n",
       "    <tr>\n",
       "      <th>4</th>\n",
       "      <td>Pacific</td>\n",
       "      <td>109008</td>\n",
       "      <td>20964</td>\n",
       "      <td>39461588</td>\n",
       "      <td>129972</td>\n",
       "    </tr>\n",
       "    <tr>\n",
       "      <th>5</th>\n",
       "      <td>Mountain</td>\n",
       "      <td>7607</td>\n",
       "      <td>3250</td>\n",
       "      <td>5691287</td>\n",
       "      <td>10857</td>\n",
       "    </tr>\n",
       "    <tr>\n",
       "      <th>6</th>\n",
       "      <td>New England</td>\n",
       "      <td>2280</td>\n",
       "      <td>1696</td>\n",
       "      <td>3571520</td>\n",
       "      <td>3976</td>\n",
       "    </tr>\n",
       "    <tr>\n",
       "      <th>7</th>\n",
       "      <td>South Atlantic</td>\n",
       "      <td>708</td>\n",
       "      <td>374</td>\n",
       "      <td>965479</td>\n",
       "      <td>1082</td>\n",
       "    </tr>\n",
       "    <tr>\n",
       "      <th>8</th>\n",
       "      <td>South Atlantic</td>\n",
       "      <td>3770</td>\n",
       "      <td>3134</td>\n",
       "      <td>701547</td>\n",
       "      <td>6904</td>\n",
       "    </tr>\n",
       "    <tr>\n",
       "      <th>9</th>\n",
       "      <td>South Atlantic</td>\n",
       "      <td>21443</td>\n",
       "      <td>9587</td>\n",
       "      <td>21244317</td>\n",
       "      <td>31030</td>\n",
       "    </tr>\n",
       "  </tbody>\n",
       "</table>\n",
       "</div>"
      ],
      "text/plain": [
       "               region  individuals  family_members  state_pop  Total_Homeless\n",
       "0  East South Central         2570             864    4887681            3434\n",
       "1             Pacific         1434             582     735139            2016\n",
       "2            Mountain         7259            2606    7158024            9865\n",
       "3  West South Central         2280             432    3009733            2712\n",
       "4             Pacific       109008           20964   39461588          129972\n",
       "5            Mountain         7607            3250    5691287           10857\n",
       "6         New England         2280            1696    3571520            3976\n",
       "7      South Atlantic          708             374     965479            1082\n",
       "8      South Atlantic         3770            3134     701547            6904\n",
       "9      South Atlantic        21443            9587   21244317           31030"
      ]
     },
     "execution_count": 13,
     "metadata": {},
     "output_type": "execute_result"
    }
   ],
   "source": [
    "#Dropping the other two column, \"state\" and \"state_pop\"\n",
    "df6=df2.drop(['state'],axis=1)\n",
    "#Making a new column name \"total_homeless\" which is the combination of column individuals and family_members\n",
    "df6['Total_Homeless'] = df6['individuals'] + df6['family_members']\n",
    "df6.head(10)"
   ]
  },
  {
   "cell_type": "code",
   "execution_count": 14,
   "id": "d55f1134",
   "metadata": {},
   "outputs": [
    {
     "data": {
      "text/html": [
       "<div>\n",
       "<style scoped>\n",
       "    .dataframe tbody tr th:only-of-type {\n",
       "        vertical-align: middle;\n",
       "    }\n",
       "\n",
       "    .dataframe tbody tr th {\n",
       "        vertical-align: top;\n",
       "    }\n",
       "\n",
       "    .dataframe thead th {\n",
       "        text-align: right;\n",
       "    }\n",
       "</style>\n",
       "<table border=\"1\" class=\"dataframe\">\n",
       "  <thead>\n",
       "    <tr style=\"text-align: right;\">\n",
       "      <th></th>\n",
       "      <th>state_pop</th>\n",
       "      <th>Total_Homeless</th>\n",
       "      <th>Total_Homeless(per 1000)</th>\n",
       "    </tr>\n",
       "    <tr>\n",
       "      <th>region</th>\n",
       "      <th></th>\n",
       "      <th></th>\n",
       "      <th></th>\n",
       "    </tr>\n",
       "  </thead>\n",
       "  <tbody>\n",
       "    <tr>\n",
       "      <th>East North Central</th>\n",
       "      <td>46886387</td>\n",
       "      <td>39408</td>\n",
       "      <td>0.840500</td>\n",
       "    </tr>\n",
       "    <tr>\n",
       "      <th>East South Central</th>\n",
       "      <td>19101485</td>\n",
       "      <td>16357</td>\n",
       "      <td>0.856321</td>\n",
       "    </tr>\n",
       "    <tr>\n",
       "      <th>West South Central</th>\n",
       "      <td>40238324</td>\n",
       "      <td>34952</td>\n",
       "      <td>0.868625</td>\n",
       "    </tr>\n",
       "    <tr>\n",
       "      <th>West North Central</th>\n",
       "      <td>21350241</td>\n",
       "      <td>22213</td>\n",
       "      <td>1.040410</td>\n",
       "    </tr>\n",
       "    <tr>\n",
       "      <th>South Atlantic</th>\n",
       "      <td>65229624</td>\n",
       "      <td>76078</td>\n",
       "      <td>1.166311</td>\n",
       "    </tr>\n",
       "    <tr>\n",
       "      <th>Mountain</th>\n",
       "      <td>24511745</td>\n",
       "      <td>37749</td>\n",
       "      <td>1.540037</td>\n",
       "    </tr>\n",
       "    <tr>\n",
       "      <th>New England</th>\n",
       "      <td>14829322</td>\n",
       "      <td>30402</td>\n",
       "      <td>2.050127</td>\n",
       "    </tr>\n",
       "    <tr>\n",
       "      <th>Mid-Atlantic</th>\n",
       "      <td>41217298</td>\n",
       "      <td>114807</td>\n",
       "      <td>2.785408</td>\n",
       "    </tr>\n",
       "    <tr>\n",
       "      <th>Pacific</th>\n",
       "      <td>53323075</td>\n",
       "      <td>175298</td>\n",
       "      <td>3.287470</td>\n",
       "    </tr>\n",
       "  </tbody>\n",
       "</table>\n",
       "</div>"
      ],
      "text/plain": [
       "                    state_pop  Total_Homeless  Total_Homeless(per 1000)\n",
       "region                                                                 \n",
       "East North Central   46886387           39408                  0.840500\n",
       "East South Central   19101485           16357                  0.856321\n",
       "West South Central   40238324           34952                  0.868625\n",
       "West North Central   21350241           22213                  1.040410\n",
       "South Atlantic       65229624           76078                  1.166311\n",
       "Mountain             24511745           37749                  1.540037\n",
       "New England          14829322           30402                  2.050127\n",
       "Mid-Atlantic         41217298          114807                  2.785408\n",
       "Pacific              53323075          175298                  3.287470"
      ]
     },
     "execution_count": 14,
     "metadata": {},
     "output_type": "execute_result"
    }
   ],
   "source": [
    "#Drop the unnecessary columns, adding the values in'Total_Homeless' after grouping, and sorting in ascending order\n",
    "percent = df6.drop(['individuals', 'family_members'],axis=1)\n",
    "percent_reg = percent.groupby(['region']).sum().sort_values(by=['Total_Homeless'], ascending=True)\n",
    "#Creating a new column to find the number of homeless people per thousand in each region\n",
    "percent_reg['Total_Homeless(per 1000)'] = ((percent_reg['Total_Homeless'])/percent_reg['state_pop'])*1000\n",
    "percent_reg.sort_values(by=['Total_Homeless(per 1000)'], ascending=True)"
   ]
  },
  {
   "cell_type": "markdown",
   "id": "5af742c0",
   "metadata": {},
   "source": [
    "While East South Central(16357 total homeless) has the lowest of number homeless people, East North Central(0.84 per thousand) has the lowest of number homeless people per thousand."
   ]
  },
  {
   "cell_type": "markdown",
   "id": "70edb74d",
   "metadata": {},
   "source": [
    "3. Which state has the highest number of homeless people who are not part of a family with children(per thousand)?"
   ]
  },
  {
   "cell_type": "code",
   "execution_count": 15,
   "id": "fdd5a093",
   "metadata": {},
   "outputs": [
    {
     "data": {
      "text/html": [
       "<div>\n",
       "<style scoped>\n",
       "    .dataframe tbody tr th:only-of-type {\n",
       "        vertical-align: middle;\n",
       "    }\n",
       "\n",
       "    .dataframe tbody tr th {\n",
       "        vertical-align: top;\n",
       "    }\n",
       "\n",
       "    .dataframe thead th {\n",
       "        text-align: right;\n",
       "    }\n",
       "</style>\n",
       "<table border=\"1\" class=\"dataframe\">\n",
       "  <thead>\n",
       "    <tr style=\"text-align: right;\">\n",
       "      <th></th>\n",
       "      <th>state</th>\n",
       "      <th>individuals</th>\n",
       "      <th>family_members</th>\n",
       "      <th>state_pop</th>\n",
       "      <th>individuals(per 1000)</th>\n",
       "    </tr>\n",
       "  </thead>\n",
       "  <tbody>\n",
       "    <tr>\n",
       "      <th>8</th>\n",
       "      <td>District of Columbia</td>\n",
       "      <td>3770</td>\n",
       "      <td>3134</td>\n",
       "      <td>701547</td>\n",
       "      <td>5.373838</td>\n",
       "    </tr>\n",
       "    <tr>\n",
       "      <th>11</th>\n",
       "      <td>Hawaii</td>\n",
       "      <td>4131</td>\n",
       "      <td>2399</td>\n",
       "      <td>1420593</td>\n",
       "      <td>2.907941</td>\n",
       "    </tr>\n",
       "    <tr>\n",
       "      <th>4</th>\n",
       "      <td>California</td>\n",
       "      <td>109008</td>\n",
       "      <td>20964</td>\n",
       "      <td>39461588</td>\n",
       "      <td>2.762382</td>\n",
       "    </tr>\n",
       "    <tr>\n",
       "      <th>37</th>\n",
       "      <td>Oregon</td>\n",
       "      <td>11139</td>\n",
       "      <td>3337</td>\n",
       "      <td>4181886</td>\n",
       "      <td>2.663631</td>\n",
       "    </tr>\n",
       "    <tr>\n",
       "      <th>28</th>\n",
       "      <td>Nevada</td>\n",
       "      <td>7058</td>\n",
       "      <td>486</td>\n",
       "      <td>3027341</td>\n",
       "      <td>2.331419</td>\n",
       "    </tr>\n",
       "  </tbody>\n",
       "</table>\n",
       "</div>"
      ],
      "text/plain": [
       "                   state  individuals  family_members  state_pop  \\\n",
       "8   District of Columbia         3770            3134     701547   \n",
       "11                Hawaii         4131            2399    1420593   \n",
       "4             California       109008           20964   39461588   \n",
       "37                Oregon        11139            3337    4181886   \n",
       "28                Nevada         7058             486    3027341   \n",
       "\n",
       "    individuals(per 1000)  \n",
       "8                5.373838  \n",
       "11               2.907941  \n",
       "4                2.762382  \n",
       "37               2.663631  \n",
       "28               2.331419  "
      ]
     },
     "execution_count": 15,
     "metadata": {},
     "output_type": "execute_result"
    }
   ],
   "source": [
    "#Drop the unnecessary columns\n",
    "percent_st = df2.drop(['region'],axis=1)\n",
    "#Creating a new column 'individuals(per 1000)'\n",
    "percent_st['individuals(per 1000)'] = ((percent_st['individuals'])/percent_st['state_pop'])*1000\n",
    "percent_st.sort_values(by=['individuals(per 1000)'], ascending=False).head()"
   ]
  },
  {
   "cell_type": "markdown",
   "id": "4c0d7431",
   "metadata": {},
   "source": [
    "4. Which state has the lowest number of homeless people who are part of a family with children(per thousand)?"
   ]
  },
  {
   "cell_type": "code",
   "execution_count": 16,
   "id": "9deffcf2",
   "metadata": {},
   "outputs": [
    {
     "data": {
      "text/html": [
       "<div>\n",
       "<style scoped>\n",
       "    .dataframe tbody tr th:only-of-type {\n",
       "        vertical-align: middle;\n",
       "    }\n",
       "\n",
       "    .dataframe tbody tr th {\n",
       "        vertical-align: top;\n",
       "    }\n",
       "\n",
       "    .dataframe thead th {\n",
       "        text-align: right;\n",
       "    }\n",
       "</style>\n",
       "<table border=\"1\" class=\"dataframe\">\n",
       "  <thead>\n",
       "    <tr style=\"text-align: right;\">\n",
       "      <th></th>\n",
       "      <th>state</th>\n",
       "      <th>individuals</th>\n",
       "      <th>family_members</th>\n",
       "      <th>state_pop</th>\n",
       "      <th>individuals(per 1000)</th>\n",
       "      <th>family_members(per 1000)</th>\n",
       "    </tr>\n",
       "  </thead>\n",
       "  <tbody>\n",
       "    <tr>\n",
       "      <th>34</th>\n",
       "      <td>North Dakota</td>\n",
       "      <td>467</td>\n",
       "      <td>75</td>\n",
       "      <td>758080</td>\n",
       "      <td>0.616030</td>\n",
       "      <td>0.098934</td>\n",
       "    </tr>\n",
       "    <tr>\n",
       "      <th>24</th>\n",
       "      <td>Mississippi</td>\n",
       "      <td>1024</td>\n",
       "      <td>328</td>\n",
       "      <td>2981020</td>\n",
       "      <td>0.343507</td>\n",
       "      <td>0.110029</td>\n",
       "    </tr>\n",
       "    <tr>\n",
       "      <th>18</th>\n",
       "      <td>Louisiana</td>\n",
       "      <td>2540</td>\n",
       "      <td>519</td>\n",
       "      <td>4659690</td>\n",
       "      <td>0.545101</td>\n",
       "      <td>0.111381</td>\n",
       "    </tr>\n",
       "    <tr>\n",
       "      <th>48</th>\n",
       "      <td>West Virginia</td>\n",
       "      <td>1021</td>\n",
       "      <td>222</td>\n",
       "      <td>1804291</td>\n",
       "      <td>0.565873</td>\n",
       "      <td>0.123040</td>\n",
       "    </tr>\n",
       "    <tr>\n",
       "      <th>3</th>\n",
       "      <td>Arkansas</td>\n",
       "      <td>2280</td>\n",
       "      <td>432</td>\n",
       "      <td>3009733</td>\n",
       "      <td>0.757542</td>\n",
       "      <td>0.143534</td>\n",
       "    </tr>\n",
       "  </tbody>\n",
       "</table>\n",
       "</div>"
      ],
      "text/plain": [
       "            state  individuals  family_members  state_pop  \\\n",
       "34   North Dakota          467              75     758080   \n",
       "24    Mississippi         1024             328    2981020   \n",
       "18      Louisiana         2540             519    4659690   \n",
       "48  West Virginia         1021             222    1804291   \n",
       "3        Arkansas         2280             432    3009733   \n",
       "\n",
       "    individuals(per 1000)  family_members(per 1000)  \n",
       "34               0.616030                  0.098934  \n",
       "24               0.343507                  0.110029  \n",
       "18               0.545101                  0.111381  \n",
       "48               0.565873                  0.123040  \n",
       "3                0.757542                  0.143534  "
      ]
     },
     "execution_count": 16,
     "metadata": {},
     "output_type": "execute_result"
    }
   ],
   "source": [
    "#Creating a new column 'family_members(per 1000)'\n",
    "percent_st['family_members(per 1000)'] = ((percent_st['family_members'])/percent_st['state_pop'])*1000\n",
    "percent_st.sort_values(by=['family_members(per 1000)'], ascending=True).head()"
   ]
  }
 ],
 "metadata": {
  "kernelspec": {
   "display_name": "Python 3",
   "language": "python",
   "name": "python3"
  },
  "language_info": {
   "codemirror_mode": {
    "name": "ipython",
    "version": 3
   },
   "file_extension": ".py",
   "mimetype": "text/x-python",
   "name": "python",
   "nbconvert_exporter": "python",
   "pygments_lexer": "ipython3",
   "version": "3.8.8"
  }
 },
 "nbformat": 4,
 "nbformat_minor": 5
}
